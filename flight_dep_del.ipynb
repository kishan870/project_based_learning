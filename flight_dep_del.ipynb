{
 "cells": [
  {
   "cell_type": "code",
   "execution_count": 1,
   "metadata": {
    "collapsed": true
   },
   "outputs": [],
   "source": [
    "import pandas as pd\n",
    "import numpy as np\n",
    "import matplotlib.pyplot as plt\n",
    "%matplotlib inline\n",
    "import seaborn as sns\n",
    "from sklearn import metrics, linear_model\n",
    "from sklearn.preprocessing import PolynomialFeatures, StandardScaler\n",
    "from sklearn.model_selection import train_test_split"
   ]
  },
  {
   "cell_type": "code",
   "execution_count": 2,
   "metadata": {},
   "outputs": [
    {
     "name": "stderr",
     "output_type": "stream",
     "text": [
      "C:\\Anaconda\\lib\\site-packages\\IPython\\core\\interactiveshell.py:2698: DtypeWarning: Columns (77) have mixed types. Specify dtype option on import or set low_memory=False.\n",
      "  interactivity=interactivity, compiler=compiler, result=result)\n"
     ]
    }
   ],
   "source": [
    "flights=pd.read_csv('ontime_per.csv')"
   ]
  },
  {
   "cell_type": "code",
   "execution_count": 3,
   "metadata": {
    "collapsed": true
   },
   "outputs": [],
   "source": [
    "for i in flights.columns:\n",
    "    if flights[i].isnull().sum() > 300000:\n",
    "        flights.drop(i, axis = 1, inplace = True)"
   ]
  },
  {
   "cell_type": "code",
   "execution_count": 4,
   "metadata": {
    "collapsed": true
   },
   "outputs": [],
   "source": [
    "for i in flights.columns:\n",
    "    if flights[i].nunique() == 1:\n",
    "        flights.drop(i, axis = 1, inplace = True)"
   ]
  },
  {
   "cell_type": "code",
   "execution_count": 5,
   "metadata": {},
   "outputs": [
    {
     "data": {
      "text/plain": [
       "(433298, 52)"
      ]
     },
     "execution_count": 5,
     "metadata": {},
     "output_type": "execute_result"
    }
   ],
   "source": [
    "flights.dropna(inplace = True)\n",
    "flights.shape"
   ]
  },
  {
   "cell_type": "code",
   "execution_count": 6,
   "metadata": {
    "collapsed": true
   },
   "outputs": [],
   "source": [
    "flights = flights.drop(['FlightDate', 'TailNum', 'OriginAirportSeqID',\n",
    "       'OriginCityMarketID', 'OriginCityName', 'OriginState',\n",
    "       'OriginStateFips', 'OriginStateName', 'OriginWac', 'DestAirportID',\n",
    "       'DestAirportSeqID', 'DestCityMarketID', 'DestCityName',\n",
    "       'DestState', 'DestStateFips', 'DestStateName', 'DestWac',\n",
    "       'DepTime', 'DepDelay', 'ArrDelayMinutes', 'ArrDel15',\n",
    "       'DepartureDelayGroups', 'DepTimeBlk', 'WheelsOff',\n",
    "       'WheelsOn', 'ArrDelay', 'ArrivalDelayGroups', 'ArrTimeBlk',\n",
    "       'CRSElapsedTime', 'ActualElapsedTime',\n",
    "       'DistanceGroup', 'DivAirportLandings'], axis = 1)"
   ]
  },
  {
   "cell_type": "code",
   "execution_count": 7,
   "metadata": {},
   "outputs": [
    {
     "data": {
      "text/plain": [
       "Index(['DayofMonth', 'DayOfWeek', 'UniqueCarrier', 'AirlineID', 'Carrier',\n",
       "       'FlightNum', 'OriginAirportID', 'Origin', 'Dest', 'CRSDepTime',\n",
       "       'DepDelayMinutes', 'DepDel15', 'TaxiOut', 'TaxiIn', 'CRSArrTime',\n",
       "       'ArrTime', 'Cancelled', 'Diverted', 'AirTime', 'Distance'],\n",
       "      dtype='object')"
      ]
     },
     "execution_count": 7,
     "metadata": {},
     "output_type": "execute_result"
    }
   ],
   "source": [
    "flights.columns"
   ]
  },
  {
   "cell_type": "code",
   "execution_count": 8,
   "metadata": {},
   "outputs": [
    {
     "name": "stdout",
     "output_type": "stream",
     "text": [
      "                 DayofMonth  DayOfWeek  AirlineID  FlightNum  OriginAirportID  \\\n",
      "DayofMonth         1.000000   0.030139  -0.002764  -0.039638         0.000470   \n",
      "DayOfWeek          0.030139   1.000000   0.004879   0.043642         0.010927   \n",
      "AirlineID         -0.002764   0.004879   1.000000   0.326941         0.000860   \n",
      "FlightNum         -0.039638   0.043642   0.326941   1.000000        -0.012578   \n",
      "OriginAirportID    0.000470   0.010927   0.000860  -0.012578         1.000000   \n",
      "CRSDepTime        -0.008330   0.019423   0.004906  -0.011096        -0.034424   \n",
      "DepDelayMinutes   -0.043799   0.013658   0.056299   0.018328         0.014297   \n",
      "DepDel15          -0.073384   0.010428   0.045724   0.000439         0.014793   \n",
      "TaxiOut           -0.010403  -0.007349   0.179297   0.118542        -0.033445   \n",
      "TaxiIn            -0.035888   0.004184   0.065527  -0.035441         0.042621   \n",
      "CRSArrTime         0.009274   0.009307  -0.016251  -0.017750        -0.000915   \n",
      "ArrTime            0.012365   0.006871  -0.021931  -0.011565        -0.002146   \n",
      "Cancelled               NaN        NaN        NaN        NaN              NaN   \n",
      "Diverted                NaN        NaN        NaN        NaN              NaN   \n",
      "AirTime           -0.015725   0.020891   0.006115  -0.308296         0.056410   \n",
      "Distance          -0.019596   0.022352  -0.003466  -0.316598         0.079787   \n",
      "\n",
      "                 CRSDepTime  DepDelayMinutes  DepDel15   TaxiOut    TaxiIn  \\\n",
      "DayofMonth        -0.008330        -0.043799 -0.073384 -0.010403 -0.035888   \n",
      "DayOfWeek          0.019423         0.013658  0.010428 -0.007349  0.004184   \n",
      "AirlineID          0.004906         0.056299  0.045724  0.179297  0.065527   \n",
      "FlightNum         -0.011096         0.018328  0.000439  0.118542 -0.035441   \n",
      "OriginAirportID   -0.034424         0.014297  0.014793 -0.033445  0.042621   \n",
      "CRSDepTime         1.000000         0.071056  0.131705 -0.048343 -0.041121   \n",
      "DepDelayMinutes    0.071056         1.000000  0.601869  0.063293  0.003052   \n",
      "DepDel15           0.131705         0.601869  1.000000  0.053883 -0.011629   \n",
      "TaxiOut           -0.048343         0.063293  0.053883  1.000000  0.007479   \n",
      "TaxiIn            -0.041121         0.003052 -0.011629  0.007479  1.000000   \n",
      "CRSArrTime         0.697361         0.058086  0.107478 -0.033690 -0.005983   \n",
      "ArrTime            0.646519         0.030353  0.089801 -0.032013 -0.001972   \n",
      "Cancelled               NaN              NaN       NaN       NaN       NaN   \n",
      "Diverted                NaN              NaN       NaN       NaN       NaN   \n",
      "AirTime           -0.027215         0.019973  0.031608  0.049890  0.101871   \n",
      "Distance          -0.016564         0.022428  0.035482  0.037180  0.096430   \n",
      "\n",
      "                 CRSArrTime   ArrTime  Cancelled  Diverted   AirTime  Distance  \n",
      "DayofMonth         0.009274  0.012365        NaN       NaN -0.015725 -0.019596  \n",
      "DayOfWeek          0.009307  0.006871        NaN       NaN  0.020891  0.022352  \n",
      "AirlineID         -0.016251 -0.021931        NaN       NaN  0.006115 -0.003466  \n",
      "FlightNum         -0.017750 -0.011565        NaN       NaN -0.308296 -0.316598  \n",
      "OriginAirportID   -0.000915 -0.002146        NaN       NaN  0.056410  0.079787  \n",
      "CRSDepTime         0.697361  0.646519        NaN       NaN -0.027215 -0.016564  \n",
      "DepDelayMinutes    0.058086  0.030353        NaN       NaN  0.019973  0.022428  \n",
      "DepDel15           0.107478  0.089801        NaN       NaN  0.031608  0.035482  \n",
      "TaxiOut           -0.033690 -0.032013        NaN       NaN  0.049890  0.037180  \n",
      "TaxiIn            -0.005983 -0.001972        NaN       NaN  0.101871  0.096430  \n",
      "CRSArrTime         1.000000  0.879979        NaN       NaN  0.033321  0.034803  \n",
      "ArrTime            0.879979  1.000000        NaN       NaN  0.020874  0.020464  \n",
      "Cancelled               NaN       NaN        NaN       NaN       NaN       NaN  \n",
      "Diverted                NaN       NaN        NaN       NaN       NaN       NaN  \n",
      "AirTime            0.033321  0.020874        NaN       NaN  1.000000  0.982208  \n",
      "Distance           0.034803  0.020464        NaN       NaN  0.982208  1.000000  \n"
     ]
    },
    {
     "data": {
      "image/png": "[encoded data removed]",
      "text/plain": [
       "<matplotlib.figure.Figure at 0x21eb0abcdd8>"
      ]
     },
     "metadata": {},
     "output_type": "display_data"
    }
   ],
   "source": [
    "sns.set(style=\"white\")\n",
    "plt.figure(figsize = (10, 8))\n",
    "corr = flights.corr()\n",
    "sns.heatmap(corr,  xticklabels=corr.columns, yticklabels=corr.columns)\n",
    "print(corr)"
   ]
  },
  {
   "cell_type": "code",
   "execution_count": 9,
   "metadata": {
    "collapsed": true
   },
   "outputs": [],
   "source": [
    "flights.drop([\"AirTime\"], axis = 1, inplace = True)\n",
    "flights.drop([\"DepDel15\"], axis = 1, inplace = True)\n",
    "flights.drop([\"ArrTime\"], axis = 1, inplace = True)\n"
   ]
  },
  {
   "cell_type": "code",
   "execution_count": 10,
   "metadata": {},
   "outputs": [
    {
     "name": "stdout",
     "output_type": "stream",
     "text": [
      "<class 'pandas.core.frame.DataFrame'>\n",
      "Int64Index: 433298 entries, 0 to 445826\n",
      "Data columns (total 17 columns):\n",
      "DayofMonth         433298 non-null int64\n",
      "DayOfWeek          433298 non-null int64\n",
      "UniqueCarrier      433298 non-null object\n",
      "AirlineID          433298 non-null int64\n",
      "Carrier            433298 non-null object\n",
      "FlightNum          433298 non-null int64\n",
      "OriginAirportID    433298 non-null int64\n",
      "Origin             433298 non-null object\n",
      "Dest               433298 non-null object\n",
      "CRSDepTime         433298 non-null int64\n",
      "DepDelayMinutes    433298 non-null float64\n",
      "TaxiOut            433298 non-null float64\n",
      "TaxiIn             433298 non-null float64\n",
      "CRSArrTime         433298 non-null int64\n",
      "Cancelled          433298 non-null float64\n",
      "Diverted           433298 non-null float64\n",
      "Distance           433298 non-null float64\n",
      "dtypes: float64(6), int64(7), object(4)\n",
      "memory usage: 59.5+ MB\n"
     ]
    }
   ],
   "source": [
    "flights.info()"
   ]
  },
  {
   "cell_type": "code",
   "execution_count": 11,
   "metadata": {
    "collapsed": true
   },
   "outputs": [],
   "source": [
    "carrier_avg_delay = flights['DepDelayMinutes'].groupby(flights['UniqueCarrier']).mean()\n",
    "carrier_avg_taxiIn = flights['TaxiIn'].groupby(flights['UniqueCarrier']).mean()\n",
    "carrier_avg_taxiOut = flights['TaxiOut'].groupby(flights['UniqueCarrier']).mean()\n",
    "carrier_avg_dist = flights['Distance'].groupby(flights['UniqueCarrier']).mean()\n",
    "#carrier_avg_time = flights['AirTime'].groupby(flights['UniqueCarrier']).mean()\n",
    "carrier_diverted = flights['Diverted'].groupby(flights['UniqueCarrier']).sum()\n"
   ]
  },
  {
   "cell_type": "code",
   "execution_count": 12,
   "metadata": {
    "collapsed": true
   },
   "outputs": [],
   "source": [
    "summary_table_carrier = pd.concat([carrier_avg_delay,carrier_avg_taxiIn,carrier_avg_taxiOut,carrier_avg_dist,carrier_diverted], axis=1)"
   ]
  },
  {
   "cell_type": "code",
   "execution_count": 13,
   "metadata": {},
   "outputs": [
    {
     "data": {
      "text/html": [
       "<div>\n",
       "<style>\n",
       "    .dataframe thead tr:only-child th {\n",
       "        text-align: right;\n",
       "    }\n",
       "\n",
       "    .dataframe thead th {\n",
       "        text-align: left;\n",
       "    }\n",
       "\n",
       "    .dataframe tbody tr th {\n",
       "        vertical-align: top;\n",
       "    }\n",
       "</style>\n",
       "<table border=\"1\" class=\"dataframe\">\n",
       "  <thead>\n",
       "    <tr style=\"text-align: right;\">\n",
       "      <th></th>\n",
       "      <th>DepDelayMinutes</th>\n",
       "      <th>TaxiIn</th>\n",
       "      <th>TaxiOut</th>\n",
       "      <th>Distance</th>\n",
       "      <th>Diverted</th>\n",
       "    </tr>\n",
       "    <tr>\n",
       "      <th>UniqueCarrier</th>\n",
       "      <th></th>\n",
       "      <th></th>\n",
       "      <th></th>\n",
       "      <th></th>\n",
       "      <th></th>\n",
       "    </tr>\n",
       "  </thead>\n",
       "  <tbody>\n",
       "    <tr>\n",
       "      <th>AA</th>\n",
       "      <td>10.257369</td>\n",
       "      <td>8.650682</td>\n",
       "      <td>17.976023</td>\n",
       "      <td>1000.461010</td>\n",
       "      <td>0.0</td>\n",
       "    </tr>\n",
       "    <tr>\n",
       "      <th>AS</th>\n",
       "      <td>6.468465</td>\n",
       "      <td>6.540454</td>\n",
       "      <td>15.592680</td>\n",
       "      <td>1228.483947</td>\n",
       "      <td>0.0</td>\n",
       "    </tr>\n",
       "    <tr>\n",
       "      <th>B6</th>\n",
       "      <td>17.313562</td>\n",
       "      <td>6.183062</td>\n",
       "      <td>17.058906</td>\n",
       "      <td>1069.467262</td>\n",
       "      <td>0.0</td>\n",
       "    </tr>\n",
       "    <tr>\n",
       "      <th>DL</th>\n",
       "      <td>9.777987</td>\n",
       "      <td>7.032382</td>\n",
       "      <td>18.502833</td>\n",
       "      <td>852.679500</td>\n",
       "      <td>0.0</td>\n",
       "    </tr>\n",
       "    <tr>\n",
       "      <th>EV</th>\n",
       "      <td>10.347780</td>\n",
       "      <td>7.359820</td>\n",
       "      <td>17.445659</td>\n",
       "      <td>441.357175</td>\n",
       "      <td>0.0</td>\n",
       "    </tr>\n",
       "    <tr>\n",
       "      <th>F9</th>\n",
       "      <td>11.233970</td>\n",
       "      <td>9.630949</td>\n",
       "      <td>16.140923</td>\n",
       "      <td>1038.543460</td>\n",
       "      <td>0.0</td>\n",
       "    </tr>\n",
       "    <tr>\n",
       "      <th>HA</th>\n",
       "      <td>2.702552</td>\n",
       "      <td>6.797608</td>\n",
       "      <td>11.037480</td>\n",
       "      <td>643.470813</td>\n",
       "      <td>0.0</td>\n",
       "    </tr>\n",
       "    <tr>\n",
       "      <th>NK</th>\n",
       "      <td>17.551310</td>\n",
       "      <td>9.465374</td>\n",
       "      <td>14.555690</td>\n",
       "      <td>999.963557</td>\n",
       "      <td>0.0</td>\n",
       "    </tr>\n",
       "    <tr>\n",
       "      <th>OO</th>\n",
       "      <td>13.966775</td>\n",
       "      <td>6.846493</td>\n",
       "      <td>20.408475</td>\n",
       "      <td>510.414311</td>\n",
       "      <td>0.0</td>\n",
       "    </tr>\n",
       "    <tr>\n",
       "      <th>UA</th>\n",
       "      <td>11.898173</td>\n",
       "      <td>8.287185</td>\n",
       "      <td>16.715395</td>\n",
       "      <td>1232.700644</td>\n",
       "      <td>0.0</td>\n",
       "    </tr>\n",
       "    <tr>\n",
       "      <th>VX</th>\n",
       "      <td>15.873706</td>\n",
       "      <td>8.370832</td>\n",
       "      <td>14.651399</td>\n",
       "      <td>1405.352051</td>\n",
       "      <td>0.0</td>\n",
       "    </tr>\n",
       "    <tr>\n",
       "      <th>WN</th>\n",
       "      <td>8.606937</td>\n",
       "      <td>6.226358</td>\n",
       "      <td>12.271160</td>\n",
       "      <td>742.409464</td>\n",
       "      <td>0.0</td>\n",
       "    </tr>\n",
       "  </tbody>\n",
       "</table>\n",
       "</div>"
      ],
      "text/plain": [
       "               DepDelayMinutes    TaxiIn    TaxiOut     Distance  Diverted\n",
       "UniqueCarrier                                                             \n",
       "AA                   10.257369  8.650682  17.976023  1000.461010       0.0\n",
       "AS                    6.468465  6.540454  15.592680  1228.483947       0.0\n",
       "B6                   17.313562  6.183062  17.058906  1069.467262       0.0\n",
       "DL                    9.777987  7.032382  18.502833   852.679500       0.0\n",
       "EV                   10.347780  7.359820  17.445659   441.357175       0.0\n",
       "F9                   11.233970  9.630949  16.140923  1038.543460       0.0\n",
       "HA                    2.702552  6.797608  11.037480   643.470813       0.0\n",
       "NK                   17.551310  9.465374  14.555690   999.963557       0.0\n",
       "OO                   13.966775  6.846493  20.408475   510.414311       0.0\n",
       "UA                   11.898173  8.287185  16.715395  1232.700644       0.0\n",
       "VX                   15.873706  8.370832  14.651399  1405.352051       0.0\n",
       "WN                    8.606937  6.226358  12.271160   742.409464       0.0"
      ]
     },
     "execution_count": 13,
     "metadata": {},
     "output_type": "execute_result"
    }
   ],
   "source": [
    "summary_table_carrier"
   ]
  },
  {
   "cell_type": "code",
   "execution_count": 14,
   "metadata": {},
   "outputs": [
    {
     "data": {
      "text/html": [
       "<div>\n",
       "<style>\n",
       "    .dataframe thead tr:only-child th {\n",
       "        text-align: right;\n",
       "    }\n",
       "\n",
       "    .dataframe thead th {\n",
       "        text-align: left;\n",
       "    }\n",
       "\n",
       "    .dataframe tbody tr th {\n",
       "        vertical-align: top;\n",
       "    }\n",
       "</style>\n",
       "<table border=\"1\" class=\"dataframe\">\n",
       "  <thead>\n",
       "    <tr style=\"text-align: right;\">\n",
       "      <th></th>\n",
       "      <th>Average departure Delay</th>\n",
       "      <th>Average Taxi-In</th>\n",
       "      <th>Average Taxi-Out</th>\n",
       "      <th>Average Flight Distance</th>\n",
       "      <th>Diverted Flights</th>\n",
       "    </tr>\n",
       "    <tr>\n",
       "      <th>UniqueCarrier</th>\n",
       "      <th></th>\n",
       "      <th></th>\n",
       "      <th></th>\n",
       "      <th></th>\n",
       "      <th></th>\n",
       "    </tr>\n",
       "  </thead>\n",
       "  <tbody>\n",
       "    <tr>\n",
       "      <th>AA</th>\n",
       "      <td>10.257369</td>\n",
       "      <td>8.650682</td>\n",
       "      <td>17.976023</td>\n",
       "      <td>1000.461010</td>\n",
       "      <td>0.0</td>\n",
       "    </tr>\n",
       "    <tr>\n",
       "      <th>AS</th>\n",
       "      <td>6.468465</td>\n",
       "      <td>6.540454</td>\n",
       "      <td>15.592680</td>\n",
       "      <td>1228.483947</td>\n",
       "      <td>0.0</td>\n",
       "    </tr>\n",
       "    <tr>\n",
       "      <th>B6</th>\n",
       "      <td>17.313562</td>\n",
       "      <td>6.183062</td>\n",
       "      <td>17.058906</td>\n",
       "      <td>1069.467262</td>\n",
       "      <td>0.0</td>\n",
       "    </tr>\n",
       "    <tr>\n",
       "      <th>DL</th>\n",
       "      <td>9.777987</td>\n",
       "      <td>7.032382</td>\n",
       "      <td>18.502833</td>\n",
       "      <td>852.679500</td>\n",
       "      <td>0.0</td>\n",
       "    </tr>\n",
       "    <tr>\n",
       "      <th>EV</th>\n",
       "      <td>10.347780</td>\n",
       "      <td>7.359820</td>\n",
       "      <td>17.445659</td>\n",
       "      <td>441.357175</td>\n",
       "      <td>0.0</td>\n",
       "    </tr>\n",
       "    <tr>\n",
       "      <th>F9</th>\n",
       "      <td>11.233970</td>\n",
       "      <td>9.630949</td>\n",
       "      <td>16.140923</td>\n",
       "      <td>1038.543460</td>\n",
       "      <td>0.0</td>\n",
       "    </tr>\n",
       "    <tr>\n",
       "      <th>HA</th>\n",
       "      <td>2.702552</td>\n",
       "      <td>6.797608</td>\n",
       "      <td>11.037480</td>\n",
       "      <td>643.470813</td>\n",
       "      <td>0.0</td>\n",
       "    </tr>\n",
       "    <tr>\n",
       "      <th>NK</th>\n",
       "      <td>17.551310</td>\n",
       "      <td>9.465374</td>\n",
       "      <td>14.555690</td>\n",
       "      <td>999.963557</td>\n",
       "      <td>0.0</td>\n",
       "    </tr>\n",
       "    <tr>\n",
       "      <th>OO</th>\n",
       "      <td>13.966775</td>\n",
       "      <td>6.846493</td>\n",
       "      <td>20.408475</td>\n",
       "      <td>510.414311</td>\n",
       "      <td>0.0</td>\n",
       "    </tr>\n",
       "    <tr>\n",
       "      <th>UA</th>\n",
       "      <td>11.898173</td>\n",
       "      <td>8.287185</td>\n",
       "      <td>16.715395</td>\n",
       "      <td>1232.700644</td>\n",
       "      <td>0.0</td>\n",
       "    </tr>\n",
       "    <tr>\n",
       "      <th>VX</th>\n",
       "      <td>15.873706</td>\n",
       "      <td>8.370832</td>\n",
       "      <td>14.651399</td>\n",
       "      <td>1405.352051</td>\n",
       "      <td>0.0</td>\n",
       "    </tr>\n",
       "    <tr>\n",
       "      <th>WN</th>\n",
       "      <td>8.606937</td>\n",
       "      <td>6.226358</td>\n",
       "      <td>12.271160</td>\n",
       "      <td>742.409464</td>\n",
       "      <td>0.0</td>\n",
       "    </tr>\n",
       "  </tbody>\n",
       "</table>\n",
       "</div>"
      ],
      "text/plain": [
       "               Average departure Delay  Average Taxi-In  Average Taxi-Out  \\\n",
       "UniqueCarrier                                                               \n",
       "AA                           10.257369         8.650682         17.976023   \n",
       "AS                            6.468465         6.540454         15.592680   \n",
       "B6                           17.313562         6.183062         17.058906   \n",
       "DL                            9.777987         7.032382         18.502833   \n",
       "EV                           10.347780         7.359820         17.445659   \n",
       "F9                           11.233970         9.630949         16.140923   \n",
       "HA                            2.702552         6.797608         11.037480   \n",
       "NK                           17.551310         9.465374         14.555690   \n",
       "OO                           13.966775         6.846493         20.408475   \n",
       "UA                           11.898173         8.287185         16.715395   \n",
       "VX                           15.873706         8.370832         14.651399   \n",
       "WN                            8.606937         6.226358         12.271160   \n",
       "\n",
       "               Average Flight Distance  Diverted Flights  \n",
       "UniqueCarrier                                             \n",
       "AA                         1000.461010               0.0  \n",
       "AS                         1228.483947               0.0  \n",
       "B6                         1069.467262               0.0  \n",
       "DL                          852.679500               0.0  \n",
       "EV                          441.357175               0.0  \n",
       "F9                         1038.543460               0.0  \n",
       "HA                          643.470813               0.0  \n",
       "NK                          999.963557               0.0  \n",
       "OO                          510.414311               0.0  \n",
       "UA                         1232.700644               0.0  \n",
       "VX                         1405.352051               0.0  \n",
       "WN                          742.409464               0.0  "
      ]
     },
     "execution_count": 14,
     "metadata": {},
     "output_type": "execute_result"
    }
   ],
   "source": [
    "summary_table_carrier.columns = ['Average departure Delay','Average Taxi-In','Average Taxi-Out','Average Flight Distance','Diverted Flights']\n",
    "summary_table_carrier"
   ]
  },
  {
   "cell_type": "code",
   "execution_count": null,
   "metadata": {
    "collapsed": true
   },
   "outputs": [],
   "source": []
  },
  {
   "cell_type": "code",
   "execution_count": 15,
   "metadata": {
    "collapsed": true
   },
   "outputs": [],
   "source": [
    "def get_stats(group):\n",
    "    return {'min': group.min(), 'max': group.max(),\n",
    "            'count': group.count(), 'mean': group.mean()}"
   ]
  },
  {
   "cell_type": "code",
   "execution_count": 16,
   "metadata": {},
   "outputs": [
    {
     "name": "stderr",
     "output_type": "stream",
     "text": [
      "C:\\Anaconda\\lib\\site-packages\\sklearn\\cross_validation.py:41: DeprecationWarning: This module was deprecated in version 0.18 in favor of the model_selection module into which all the refactored classes and functions are moved. Also note that the interface of the new CV iterators are different from that of this module. This module will be removed in 0.20.\n",
      "  \"This module will be removed in 0.20.\", DeprecationWarning)\n"
     ]
    }
   ],
   "source": [
    "from sklearn.linear_model import LinearRegression\n",
    "from sklearn.metrics import mean_squared_error,mean_absolute_error\n",
    "from sklearn.cross_validation import train_test_split"
   ]
  },
  {
   "cell_type": "code",
   "execution_count": 17,
   "metadata": {
    "collapsed": true
   },
   "outputs": [],
   "source": [
    "df_train = flights[flights['DayofMonth']<23]\n",
    "df_test  = flights[flights['DayofMonth']>=23]\n",
    "df = df_train"
   ]
  },
  {
   "cell_type": "code",
   "execution_count": 18,
   "metadata": {},
   "outputs": [
    {
     "name": "stderr",
     "output_type": "stream",
     "text": [
      "C:\\Anaconda\\lib\\site-packages\\statsmodels\\stats\\outliers_influence.py:167: RuntimeWarning: divide by zero encountered in double_scalars\n",
      "  vif = 1. / (1. - r_squared_i)\n",
      "C:\\Anaconda\\lib\\site-packages\\statsmodels\\regression\\linear_model.py:1388: RuntimeWarning: invalid value encountered in double_scalars\n",
      "  return 1 - self.ssr/self.uncentered_tss\n"
     ]
    },
    {
     "data": {
      "text/html": [
       "<div>\n",
       "<style>\n",
       "    .dataframe thead tr:only-child th {\n",
       "        text-align: right;\n",
       "    }\n",
       "\n",
       "    .dataframe thead th {\n",
       "        text-align: left;\n",
       "    }\n",
       "\n",
       "    .dataframe tbody tr th {\n",
       "        vertical-align: top;\n",
       "    }\n",
       "</style>\n",
       "<table border=\"1\" class=\"dataframe\">\n",
       "  <thead>\n",
       "    <tr style=\"text-align: right;\">\n",
       "      <th></th>\n",
       "      <th>VIF Factor</th>\n",
       "      <th>features</th>\n",
       "    </tr>\n",
       "  </thead>\n",
       "  <tbody>\n",
       "    <tr>\n",
       "      <th>0</th>\n",
       "      <td>4.400000</td>\n",
       "      <td>DayofMonth</td>\n",
       "    </tr>\n",
       "    <tr>\n",
       "      <th>1</th>\n",
       "      <td>5.200000</td>\n",
       "      <td>DayOfWeek</td>\n",
       "    </tr>\n",
       "    <tr>\n",
       "      <th>2</th>\n",
       "      <td>95.400000</td>\n",
       "      <td>AirlineID</td>\n",
       "    </tr>\n",
       "    <tr>\n",
       "      <th>3</th>\n",
       "      <td>2.800000</td>\n",
       "      <td>FlightNum</td>\n",
       "    </tr>\n",
       "    <tr>\n",
       "      <th>4</th>\n",
       "      <td>68.900000</td>\n",
       "      <td>OriginAirportID</td>\n",
       "    </tr>\n",
       "    <tr>\n",
       "      <th>5</th>\n",
       "      <td>inf</td>\n",
       "      <td>CRSDepTime</td>\n",
       "    </tr>\n",
       "    <tr>\n",
       "      <th>6</th>\n",
       "      <td>4.300000</td>\n",
       "      <td>TaxiOut</td>\n",
       "    </tr>\n",
       "    <tr>\n",
       "      <th>7</th>\n",
       "      <td>2.800000</td>\n",
       "      <td>TaxiIn</td>\n",
       "    </tr>\n",
       "    <tr>\n",
       "      <th>8</th>\n",
       "      <td>inf</td>\n",
       "      <td>CRSDepTime</td>\n",
       "    </tr>\n",
       "    <tr>\n",
       "      <th>9</th>\n",
       "      <td>NaN</td>\n",
       "      <td>Cancelled</td>\n",
       "    </tr>\n",
       "    <tr>\n",
       "      <th>10</th>\n",
       "      <td>NaN</td>\n",
       "      <td>Diverted</td>\n",
       "    </tr>\n",
       "    <tr>\n",
       "      <th>11</th>\n",
       "      <td>3.300000</td>\n",
       "      <td>Distance</td>\n",
       "    </tr>\n",
       "  </tbody>\n",
       "</table>\n",
       "</div>"
      ],
      "text/plain": [
       "    VIF Factor         features\n",
       "0     4.400000       DayofMonth\n",
       "1     5.200000        DayOfWeek\n",
       "2    95.400000        AirlineID\n",
       "3     2.800000        FlightNum\n",
       "4    68.900000  OriginAirportID\n",
       "5          inf       CRSDepTime\n",
       "6     4.300000          TaxiOut\n",
       "7     2.800000           TaxiIn\n",
       "8          inf       CRSDepTime\n",
       "9          NaN        Cancelled\n",
       "10         NaN         Diverted\n",
       "11    3.300000         Distance"
      ]
     },
     "execution_count": 18,
     "metadata": {},
     "output_type": "execute_result"
    }
   ],
   "source": [
    "features = ['DayofMonth','DayOfWeek','AirlineID','FlightNum','OriginAirportID','CRSDepTime','TaxiOut','TaxiIn','CRSDepTime','Cancelled','Diverted','Distance']\n",
    "        \n",
    "X_imp=df_train[features]\n",
    "y_imp=df_train['DepDelayMinutes']\n",
    "X_train_imp, X_test_imp, y_train_imp, y_test_imp = train_test_split(X_imp, y_imp, train_size=0.70, random_state=0)\n",
    "#print(X_imp)\n",
    "from patsy import dmatrices\n",
    "from statsmodels.stats.outliers_influence import variance_inflation_factor\n",
    "vif = pd.DataFrame()\n",
    "vif[\"VIF Factor\"] = [variance_inflation_factor(X_imp.values, i) for i in range(X_imp.shape[1])]\n",
    "vif[\"features\"] = X_imp.columns\n",
    "vif.round(1)\n"
   ]
  },
  {
   "cell_type": "code",
   "execution_count": 19,
   "metadata": {
    "collapsed": true
   },
   "outputs": [],
   "source": [
    "def get_flight_delays(df,att, carrier, id_airport, extrem_values = False):\n",
    "    df2 = df[(df['Carrier'] == carrier) & (df['Origin'] == id_airport)]\n",
    "    if extrem_values:\n",
    "        df2['DepDelayMinutes'] = df2['DepDelayMinutes'].apply(lambda x:x if x < 60 else np.nan)\n",
    "        df2.dropna(how = 'any')\n",
    "    test2 = df2['DepDelayMinutes'].groupby(df2[att]).apply(get_stats).unstack()\n",
    "\n",
    "    test2.reset_index(inplace=True)\n",
    "\n",
    "    return test2"
   ]
  },
  {
   "cell_type": "code",
   "execution_count": 20,
   "metadata": {},
   "outputs": [
    {
     "data": {
      "text/html": [
       "<div>\n",
       "<style>\n",
       "    .dataframe thead tr:only-child th {\n",
       "        text-align: right;\n",
       "    }\n",
       "\n",
       "    .dataframe thead th {\n",
       "        text-align: left;\n",
       "    }\n",
       "\n",
       "    .dataframe tbody tr th {\n",
       "        vertical-align: top;\n",
       "    }\n",
       "</style>\n",
       "<table border=\"1\" class=\"dataframe\">\n",
       "  <thead>\n",
       "    <tr style=\"text-align: right;\">\n",
       "      <th></th>\n",
       "      <th>TaxiIn</th>\n",
       "      <th>count</th>\n",
       "      <th>max</th>\n",
       "      <th>mean</th>\n",
       "      <th>min</th>\n",
       "    </tr>\n",
       "  </thead>\n",
       "  <tbody>\n",
       "    <tr>\n",
       "      <th>0</th>\n",
       "      <td>2.0</td>\n",
       "      <td>10.0</td>\n",
       "      <td>162.0</td>\n",
       "      <td>24.100000</td>\n",
       "      <td>0.0</td>\n",
       "    </tr>\n",
       "    <tr>\n",
       "      <th>1</th>\n",
       "      <td>3.0</td>\n",
       "      <td>60.0</td>\n",
       "      <td>338.0</td>\n",
       "      <td>23.700000</td>\n",
       "      <td>0.0</td>\n",
       "    </tr>\n",
       "    <tr>\n",
       "      <th>2</th>\n",
       "      <td>4.0</td>\n",
       "      <td>104.0</td>\n",
       "      <td>192.0</td>\n",
       "      <td>24.028846</td>\n",
       "      <td>0.0</td>\n",
       "    </tr>\n",
       "    <tr>\n",
       "      <th>3</th>\n",
       "      <td>5.0</td>\n",
       "      <td>150.0</td>\n",
       "      <td>925.0</td>\n",
       "      <td>23.326667</td>\n",
       "      <td>0.0</td>\n",
       "    </tr>\n",
       "    <tr>\n",
       "      <th>4</th>\n",
       "      <td>6.0</td>\n",
       "      <td>160.0</td>\n",
       "      <td>198.0</td>\n",
       "      <td>12.675000</td>\n",
       "      <td>0.0</td>\n",
       "    </tr>\n",
       "    <tr>\n",
       "      <th>5</th>\n",
       "      <td>7.0</td>\n",
       "      <td>112.0</td>\n",
       "      <td>264.0</td>\n",
       "      <td>12.553571</td>\n",
       "      <td>0.0</td>\n",
       "    </tr>\n",
       "    <tr>\n",
       "      <th>6</th>\n",
       "      <td>8.0</td>\n",
       "      <td>91.0</td>\n",
       "      <td>158.0</td>\n",
       "      <td>9.307692</td>\n",
       "      <td>0.0</td>\n",
       "    </tr>\n",
       "    <tr>\n",
       "      <th>7</th>\n",
       "      <td>9.0</td>\n",
       "      <td>67.0</td>\n",
       "      <td>236.0</td>\n",
       "      <td>20.925373</td>\n",
       "      <td>0.0</td>\n",
       "    </tr>\n",
       "    <tr>\n",
       "      <th>8</th>\n",
       "      <td>10.0</td>\n",
       "      <td>52.0</td>\n",
       "      <td>534.0</td>\n",
       "      <td>30.980769</td>\n",
       "      <td>0.0</td>\n",
       "    </tr>\n",
       "    <tr>\n",
       "      <th>9</th>\n",
       "      <td>11.0</td>\n",
       "      <td>41.0</td>\n",
       "      <td>136.0</td>\n",
       "      <td>12.707317</td>\n",
       "      <td>0.0</td>\n",
       "    </tr>\n",
       "    <tr>\n",
       "      <th>10</th>\n",
       "      <td>12.0</td>\n",
       "      <td>29.0</td>\n",
       "      <td>109.0</td>\n",
       "      <td>6.965517</td>\n",
       "      <td>0.0</td>\n",
       "    </tr>\n",
       "    <tr>\n",
       "      <th>11</th>\n",
       "      <td>13.0</td>\n",
       "      <td>30.0</td>\n",
       "      <td>121.0</td>\n",
       "      <td>11.366667</td>\n",
       "      <td>0.0</td>\n",
       "    </tr>\n",
       "    <tr>\n",
       "      <th>12</th>\n",
       "      <td>14.0</td>\n",
       "      <td>21.0</td>\n",
       "      <td>139.0</td>\n",
       "      <td>16.285714</td>\n",
       "      <td>0.0</td>\n",
       "    </tr>\n",
       "    <tr>\n",
       "      <th>13</th>\n",
       "      <td>15.0</td>\n",
       "      <td>26.0</td>\n",
       "      <td>78.0</td>\n",
       "      <td>7.538462</td>\n",
       "      <td>0.0</td>\n",
       "    </tr>\n",
       "    <tr>\n",
       "      <th>14</th>\n",
       "      <td>16.0</td>\n",
       "      <td>21.0</td>\n",
       "      <td>57.0</td>\n",
       "      <td>4.952381</td>\n",
       "      <td>0.0</td>\n",
       "    </tr>\n",
       "    <tr>\n",
       "      <th>15</th>\n",
       "      <td>17.0</td>\n",
       "      <td>13.0</td>\n",
       "      <td>36.0</td>\n",
       "      <td>7.307692</td>\n",
       "      <td>0.0</td>\n",
       "    </tr>\n",
       "    <tr>\n",
       "      <th>16</th>\n",
       "      <td>18.0</td>\n",
       "      <td>19.0</td>\n",
       "      <td>100.0</td>\n",
       "      <td>13.368421</td>\n",
       "      <td>0.0</td>\n",
       "    </tr>\n",
       "    <tr>\n",
       "      <th>17</th>\n",
       "      <td>19.0</td>\n",
       "      <td>7.0</td>\n",
       "      <td>19.0</td>\n",
       "      <td>4.857143</td>\n",
       "      <td>0.0</td>\n",
       "    </tr>\n",
       "    <tr>\n",
       "      <th>18</th>\n",
       "      <td>20.0</td>\n",
       "      <td>10.0</td>\n",
       "      <td>472.0</td>\n",
       "      <td>64.000000</td>\n",
       "      <td>0.0</td>\n",
       "    </tr>\n",
       "    <tr>\n",
       "      <th>19</th>\n",
       "      <td>21.0</td>\n",
       "      <td>6.0</td>\n",
       "      <td>3.0</td>\n",
       "      <td>0.833333</td>\n",
       "      <td>0.0</td>\n",
       "    </tr>\n",
       "    <tr>\n",
       "      <th>20</th>\n",
       "      <td>22.0</td>\n",
       "      <td>7.0</td>\n",
       "      <td>50.0</td>\n",
       "      <td>7.428571</td>\n",
       "      <td>0.0</td>\n",
       "    </tr>\n",
       "    <tr>\n",
       "      <th>21</th>\n",
       "      <td>23.0</td>\n",
       "      <td>5.0</td>\n",
       "      <td>0.0</td>\n",
       "      <td>0.000000</td>\n",
       "      <td>0.0</td>\n",
       "    </tr>\n",
       "    <tr>\n",
       "      <th>22</th>\n",
       "      <td>24.0</td>\n",
       "      <td>9.0</td>\n",
       "      <td>136.0</td>\n",
       "      <td>31.555556</td>\n",
       "      <td>0.0</td>\n",
       "    </tr>\n",
       "    <tr>\n",
       "      <th>23</th>\n",
       "      <td>25.0</td>\n",
       "      <td>7.0</td>\n",
       "      <td>61.0</td>\n",
       "      <td>10.714286</td>\n",
       "      <td>0.0</td>\n",
       "    </tr>\n",
       "    <tr>\n",
       "      <th>24</th>\n",
       "      <td>26.0</td>\n",
       "      <td>5.0</td>\n",
       "      <td>133.0</td>\n",
       "      <td>26.600000</td>\n",
       "      <td>0.0</td>\n",
       "    </tr>\n",
       "    <tr>\n",
       "      <th>25</th>\n",
       "      <td>27.0</td>\n",
       "      <td>6.0</td>\n",
       "      <td>16.0</td>\n",
       "      <td>4.666667</td>\n",
       "      <td>0.0</td>\n",
       "    </tr>\n",
       "    <tr>\n",
       "      <th>26</th>\n",
       "      <td>28.0</td>\n",
       "      <td>4.0</td>\n",
       "      <td>7.0</td>\n",
       "      <td>2.250000</td>\n",
       "      <td>0.0</td>\n",
       "    </tr>\n",
       "    <tr>\n",
       "      <th>27</th>\n",
       "      <td>29.0</td>\n",
       "      <td>3.0</td>\n",
       "      <td>136.0</td>\n",
       "      <td>45.333333</td>\n",
       "      <td>0.0</td>\n",
       "    </tr>\n",
       "    <tr>\n",
       "      <th>28</th>\n",
       "      <td>30.0</td>\n",
       "      <td>6.0</td>\n",
       "      <td>48.0</td>\n",
       "      <td>9.666667</td>\n",
       "      <td>0.0</td>\n",
       "    </tr>\n",
       "    <tr>\n",
       "      <th>29</th>\n",
       "      <td>31.0</td>\n",
       "      <td>3.0</td>\n",
       "      <td>0.0</td>\n",
       "      <td>0.000000</td>\n",
       "      <td>0.0</td>\n",
       "    </tr>\n",
       "    <tr>\n",
       "      <th>30</th>\n",
       "      <td>32.0</td>\n",
       "      <td>1.0</td>\n",
       "      <td>0.0</td>\n",
       "      <td>0.000000</td>\n",
       "      <td>0.0</td>\n",
       "    </tr>\n",
       "    <tr>\n",
       "      <th>31</th>\n",
       "      <td>33.0</td>\n",
       "      <td>1.0</td>\n",
       "      <td>0.0</td>\n",
       "      <td>0.000000</td>\n",
       "      <td>0.0</td>\n",
       "    </tr>\n",
       "    <tr>\n",
       "      <th>32</th>\n",
       "      <td>34.0</td>\n",
       "      <td>5.0</td>\n",
       "      <td>28.0</td>\n",
       "      <td>7.200000</td>\n",
       "      <td>0.0</td>\n",
       "    </tr>\n",
       "    <tr>\n",
       "      <th>33</th>\n",
       "      <td>35.0</td>\n",
       "      <td>4.0</td>\n",
       "      <td>100.0</td>\n",
       "      <td>42.500000</td>\n",
       "      <td>0.0</td>\n",
       "    </tr>\n",
       "    <tr>\n",
       "      <th>34</th>\n",
       "      <td>36.0</td>\n",
       "      <td>2.0</td>\n",
       "      <td>2.0</td>\n",
       "      <td>1.000000</td>\n",
       "      <td>0.0</td>\n",
       "    </tr>\n",
       "    <tr>\n",
       "      <th>35</th>\n",
       "      <td>37.0</td>\n",
       "      <td>4.0</td>\n",
       "      <td>0.0</td>\n",
       "      <td>0.000000</td>\n",
       "      <td>0.0</td>\n",
       "    </tr>\n",
       "    <tr>\n",
       "      <th>36</th>\n",
       "      <td>38.0</td>\n",
       "      <td>2.0</td>\n",
       "      <td>3.0</td>\n",
       "      <td>1.500000</td>\n",
       "      <td>0.0</td>\n",
       "    </tr>\n",
       "    <tr>\n",
       "      <th>37</th>\n",
       "      <td>39.0</td>\n",
       "      <td>1.0</td>\n",
       "      <td>0.0</td>\n",
       "      <td>0.000000</td>\n",
       "      <td>0.0</td>\n",
       "    </tr>\n",
       "    <tr>\n",
       "      <th>38</th>\n",
       "      <td>40.0</td>\n",
       "      <td>1.0</td>\n",
       "      <td>0.0</td>\n",
       "      <td>0.000000</td>\n",
       "      <td>0.0</td>\n",
       "    </tr>\n",
       "    <tr>\n",
       "      <th>39</th>\n",
       "      <td>41.0</td>\n",
       "      <td>2.0</td>\n",
       "      <td>31.0</td>\n",
       "      <td>15.500000</td>\n",
       "      <td>0.0</td>\n",
       "    </tr>\n",
       "    <tr>\n",
       "      <th>40</th>\n",
       "      <td>42.0</td>\n",
       "      <td>1.0</td>\n",
       "      <td>0.0</td>\n",
       "      <td>0.000000</td>\n",
       "      <td>0.0</td>\n",
       "    </tr>\n",
       "    <tr>\n",
       "      <th>41</th>\n",
       "      <td>43.0</td>\n",
       "      <td>2.0</td>\n",
       "      <td>8.0</td>\n",
       "      <td>4.000000</td>\n",
       "      <td>0.0</td>\n",
       "    </tr>\n",
       "    <tr>\n",
       "      <th>42</th>\n",
       "      <td>44.0</td>\n",
       "      <td>1.0</td>\n",
       "      <td>0.0</td>\n",
       "      <td>0.000000</td>\n",
       "      <td>0.0</td>\n",
       "    </tr>\n",
       "    <tr>\n",
       "      <th>43</th>\n",
       "      <td>46.0</td>\n",
       "      <td>2.0</td>\n",
       "      <td>5.0</td>\n",
       "      <td>2.500000</td>\n",
       "      <td>0.0</td>\n",
       "    </tr>\n",
       "    <tr>\n",
       "      <th>44</th>\n",
       "      <td>48.0</td>\n",
       "      <td>1.0</td>\n",
       "      <td>0.0</td>\n",
       "      <td>0.000000</td>\n",
       "      <td>0.0</td>\n",
       "    </tr>\n",
       "    <tr>\n",
       "      <th>45</th>\n",
       "      <td>49.0</td>\n",
       "      <td>1.0</td>\n",
       "      <td>138.0</td>\n",
       "      <td>138.000000</td>\n",
       "      <td>138.0</td>\n",
       "    </tr>\n",
       "    <tr>\n",
       "      <th>46</th>\n",
       "      <td>58.0</td>\n",
       "      <td>1.0</td>\n",
       "      <td>0.0</td>\n",
       "      <td>0.000000</td>\n",
       "      <td>0.0</td>\n",
       "    </tr>\n",
       "    <tr>\n",
       "      <th>47</th>\n",
       "      <td>60.0</td>\n",
       "      <td>1.0</td>\n",
       "      <td>0.0</td>\n",
       "      <td>0.000000</td>\n",
       "      <td>0.0</td>\n",
       "    </tr>\n",
       "    <tr>\n",
       "      <th>48</th>\n",
       "      <td>74.0</td>\n",
       "      <td>1.0</td>\n",
       "      <td>0.0</td>\n",
       "      <td>0.000000</td>\n",
       "      <td>0.0</td>\n",
       "    </tr>\n",
       "  </tbody>\n",
       "</table>\n",
       "</div>"
      ],
      "text/plain": [
       "    TaxiIn  count    max        mean    min\n",
       "0      2.0   10.0  162.0   24.100000    0.0\n",
       "1      3.0   60.0  338.0   23.700000    0.0\n",
       "2      4.0  104.0  192.0   24.028846    0.0\n",
       "3      5.0  150.0  925.0   23.326667    0.0\n",
       "4      6.0  160.0  198.0   12.675000    0.0\n",
       "5      7.0  112.0  264.0   12.553571    0.0\n",
       "6      8.0   91.0  158.0    9.307692    0.0\n",
       "7      9.0   67.0  236.0   20.925373    0.0\n",
       "8     10.0   52.0  534.0   30.980769    0.0\n",
       "9     11.0   41.0  136.0   12.707317    0.0\n",
       "10    12.0   29.0  109.0    6.965517    0.0\n",
       "11    13.0   30.0  121.0   11.366667    0.0\n",
       "12    14.0   21.0  139.0   16.285714    0.0\n",
       "13    15.0   26.0   78.0    7.538462    0.0\n",
       "14    16.0   21.0   57.0    4.952381    0.0\n",
       "15    17.0   13.0   36.0    7.307692    0.0\n",
       "16    18.0   19.0  100.0   13.368421    0.0\n",
       "17    19.0    7.0   19.0    4.857143    0.0\n",
       "18    20.0   10.0  472.0   64.000000    0.0\n",
       "19    21.0    6.0    3.0    0.833333    0.0\n",
       "20    22.0    7.0   50.0    7.428571    0.0\n",
       "21    23.0    5.0    0.0    0.000000    0.0\n",
       "22    24.0    9.0  136.0   31.555556    0.0\n",
       "23    25.0    7.0   61.0   10.714286    0.0\n",
       "24    26.0    5.0  133.0   26.600000    0.0\n",
       "25    27.0    6.0   16.0    4.666667    0.0\n",
       "26    28.0    4.0    7.0    2.250000    0.0\n",
       "27    29.0    3.0  136.0   45.333333    0.0\n",
       "28    30.0    6.0   48.0    9.666667    0.0\n",
       "29    31.0    3.0    0.0    0.000000    0.0\n",
       "30    32.0    1.0    0.0    0.000000    0.0\n",
       "31    33.0    1.0    0.0    0.000000    0.0\n",
       "32    34.0    5.0   28.0    7.200000    0.0\n",
       "33    35.0    4.0  100.0   42.500000    0.0\n",
       "34    36.0    2.0    2.0    1.000000    0.0\n",
       "35    37.0    4.0    0.0    0.000000    0.0\n",
       "36    38.0    2.0    3.0    1.500000    0.0\n",
       "37    39.0    1.0    0.0    0.000000    0.0\n",
       "38    40.0    1.0    0.0    0.000000    0.0\n",
       "39    41.0    2.0   31.0   15.500000    0.0\n",
       "40    42.0    1.0    0.0    0.000000    0.0\n",
       "41    43.0    2.0    8.0    4.000000    0.0\n",
       "42    44.0    1.0    0.0    0.000000    0.0\n",
       "43    46.0    2.0    5.0    2.500000    0.0\n",
       "44    48.0    1.0    0.0    0.000000    0.0\n",
       "45    49.0    1.0  138.0  138.000000  138.0\n",
       "46    58.0    1.0    0.0    0.000000    0.0\n",
       "47    60.0    1.0    0.0    0.000000    0.0\n",
       "48    74.0    1.0    0.0    0.000000    0.0"
      ]
     },
     "execution_count": 20,
     "metadata": {},
     "output_type": "execute_result"
    }
   ],
   "source": [
    "test2 = get_flight_delays(df,'TaxiIn', 'AA', 'JFK', False)\n",
    "test2"
   ]
  },
  {
   "cell_type": "code",
   "execution_count": 21,
   "metadata": {
    "collapsed": true
   },
   "outputs": [],
   "source": [
    "def linear_regression(test2,att):\n",
    "    test = test2[['mean', att]].dropna(how='any', axis = 0)\n",
    "    X = np.array(test[att])\n",
    "    Y = np.array(test['mean'])\n",
    "    X = X.reshape(len(X),1)\n",
    "    Y = Y.reshape(len(Y),1)\n",
    "    regr = linear_model.LinearRegression()\n",
    "    model=regr.fit(X, Y)\n",
    "    result = regr.predict(X)\n",
    "    return X, Y, result\n"
   ]
  },
  {
   "cell_type": "code",
   "execution_count": 22,
   "metadata": {},
   "outputs": [
    {
     "name": "stderr",
     "output_type": "stream",
     "text": [
      "C:\\Anaconda\\lib\\site-packages\\ipykernel_launcher.py:4: SettingWithCopyWarning: \n",
      "A value is trying to be set on a copy of a slice from a DataFrame.\n",
      "Try using .loc[row_indexer,col_indexer] = value instead\n",
      "\n",
      "See the caveats in the documentation: http://pandas.pydata.org/pandas-docs/stable/indexing.html#indexing-view-versus-copy\n",
      "  after removing the cwd from sys.path.\n"
     ]
    }
   ],
   "source": [
    "df2 = df[(df['Carrier'] == 'AA') & (df['Origin'] == 'JFK')]\n",
    "\n",
    "test_taxi = get_flight_delays(df,'TaxiIn', 'AA', 'JFK', False)\n",
    "X1, Y1, result2 = linear_regression(test_taxi,'TaxiIn')\n",
    "\n",
    "\n",
    "test_taxi1 = get_flight_delays(df,'TaxiIn', 'AA', 'JFK', True)\n",
    "X2, Y2, result3 = linear_regression(test_taxi1,'TaxiIn')\n"
   ]
  },
  {
   "cell_type": "code",
   "execution_count": 23,
   "metadata": {},
   "outputs": [
    {
     "data": {
      "image/png": "[encoded data removed]",
      "text/plain": [
       "<matplotlib.figure.Figure at 0x21eb0737780>"
      ]
     },
     "metadata": {},
     "output_type": "display_data"
    }
   ],
   "source": [
    "plt.figure(figsize=(15,10))\n",
    "plt.ylim(-20,125)\n",
    "plt.scatter(df2['TaxiIn'], df2['DepDelayMinutes'], color='grey')\n",
    "plt.plot(X1, Y1, 'bs', linestyle = ':', markersize = 10)\n",
    "plt.plot(X1, result2, color = 'b', linestyle = '-', linewidth = 3)\n",
    "plt.plot(X2, Y2, 'gX', linestyle = ':', markersize = 15)\n",
    "plt.plot(X2, result3, color = 'g', linestyle = '-', linewidth = 3);"
   ]
  },
  {
   "cell_type": "code",
   "execution_count": 24,
   "metadata": {},
   "outputs": [
    {
     "name": "stdout",
     "output_type": "stream",
     "text": [
      "0.153806819583\n",
      "15.0347116057\n"
     ]
    },
    {
     "name": "stderr",
     "output_type": "stream",
     "text": [
      "C:\\Anaconda\\lib\\site-packages\\ipykernel_launcher.py:4: SettingWithCopyWarning: \n",
      "A value is trying to be set on a copy of a slice from a DataFrame.\n",
      "Try using .loc[row_indexer,col_indexer] = value instead\n",
      "\n",
      "See the caveats in the documentation: http://pandas.pydata.org/pandas-docs/stable/indexing.html#indexing-view-versus-copy\n",
      "  after removing the cwd from sys.path.\n"
     ]
    }
   ],
   "source": [
    "test_data =  get_flight_delays(df_test,'TaxiIn', 'AA', 'JFK', True)\n",
    "test_data = test_data[['mean', 'TaxiIn']].dropna(how='any', axis = 0)\n",
    "X_test = np.array(test_data['TaxiIn'])\n",
    "Y_test = np.array(test_data['mean'])\n",
    "X_test = X_test.reshape(len(X_test),1)\n",
    "Y_test = Y_test.reshape(len(Y_test),1)\n",
    "regr = linear_model.LinearRegression()\n",
    "model=regr.fit(X2,Y2)\n",
    "result = regr.predict(X_test)\n",
    "print(regr.score(X2,Y2))\n",
    "mae=mean_squared_error(Y_test, result)\n",
    "print(mae)"
   ]
  },
  {
   "cell_type": "code",
   "execution_count": 25,
   "metadata": {},
   "outputs": [
    {
     "name": "stderr",
     "output_type": "stream",
     "text": [
      "C:\\Anaconda\\lib\\site-packages\\ipykernel_launcher.py:4: SettingWithCopyWarning: \n",
      "A value is trying to be set on a copy of a slice from a DataFrame.\n",
      "Try using .loc[row_indexer,col_indexer] = value instead\n",
      "\n",
      "See the caveats in the documentation: http://pandas.pydata.org/pandas-docs/stable/indexing.html#indexing-view-versus-copy\n",
      "  after removing the cwd from sys.path.\n"
     ]
    }
   ],
   "source": [
    "test_dist = get_flight_delays(df,'Distance', 'AA', 'JFK', False)\n",
    "X1, Y1, result2 = linear_regression(test_dist,'Distance')\n",
    "\n",
    "\n",
    "test_dist1 = get_flight_delays(df,'Distance', 'AA', 'JFK', True)\n",
    "X2, Y2, result3 = linear_regression(test_dist1,'Distance')\n"
   ]
  },
  {
   "cell_type": "code",
   "execution_count": 26,
   "metadata": {},
   "outputs": [
    {
     "data": {
      "image/png": "[encoded data removed]",
      "text/plain": [
       "<matplotlib.figure.Figure at 0x21eb070a390>"
      ]
     },
     "metadata": {},
     "output_type": "display_data"
    }
   ],
   "source": [
    "plt.figure(figsize=(15,10))\n",
    "plt.ylim(-20,125)\n",
    "plt.scatter(df2['Distance'], df2['DepDelayMinutes'], color='grey')\n",
    "plt.plot(X1, Y1, 'bs', linestyle = ':', markersize = 10)\n",
    "plt.plot(X1, result2, color = 'b', linestyle = '-', linewidth = 3)\n",
    "plt.plot(X2, Y2, 'gX', linestyle = ':', markersize = 15)\n",
    "plt.plot(X2, result3, color = 'g', linestyle = '-', linewidth = 3);"
   ]
  },
  {
   "cell_type": "code",
   "execution_count": 27,
   "metadata": {},
   "outputs": [
    {
     "name": "stdout",
     "output_type": "stream",
     "text": [
      "0.204362430781\n",
      "22.0810484884\n"
     ]
    },
    {
     "name": "stderr",
     "output_type": "stream",
     "text": [
      "C:\\Anaconda\\lib\\site-packages\\ipykernel_launcher.py:4: SettingWithCopyWarning: \n",
      "A value is trying to be set on a copy of a slice from a DataFrame.\n",
      "Try using .loc[row_indexer,col_indexer] = value instead\n",
      "\n",
      "See the caveats in the documentation: http://pandas.pydata.org/pandas-docs/stable/indexing.html#indexing-view-versus-copy\n",
      "  after removing the cwd from sys.path.\n"
     ]
    }
   ],
   "source": [
    "test_data =  get_flight_delays(df_test,'Distance', 'AA', 'JFK', True)\n",
    "test_data = test_data[['mean', 'Distance']].dropna(how='any', axis = 0)\n",
    "X_test = np.array(test_data['Distance'])\n",
    "Y_test = np.array(test_data['mean'])\n",
    "X_test = X_test.reshape(len(X_test),1)\n",
    "Y_test = Y_test.reshape(len(Y_test),1)\n",
    "regr = linear_model.LinearRegression()\n",
    "model=regr.fit(X2,Y2)\n",
    "result = regr.predict(X_test)\n",
    "print(regr.score(X2,Y2))\n",
    "mae=mean_squared_error(Y_test, result)\n",
    "print(mae)"
   ]
  },
  {
   "cell_type": "code",
   "execution_count": 28,
   "metadata": {},
   "outputs": [
    {
     "name": "stderr",
     "output_type": "stream",
     "text": [
      "C:\\Anaconda\\lib\\site-packages\\ipykernel_launcher.py:4: SettingWithCopyWarning: \n",
      "A value is trying to be set on a copy of a slice from a DataFrame.\n",
      "Try using .loc[row_indexer,col_indexer] = value instead\n",
      "\n",
      "See the caveats in the documentation: http://pandas.pydata.org/pandas-docs/stable/indexing.html#indexing-view-versus-copy\n",
      "  after removing the cwd from sys.path.\n"
     ]
    }
   ],
   "source": [
    "test_month = get_flight_delays(df,'DayofMonth', 'AA', 'JFK', False)\n",
    "X1, Y1, result2 = linear_regression(test_month,'DayofMonth')\n",
    "\n",
    "\n",
    "test_month1 = get_flight_delays(df,'DayofMonth', 'AA', 'JFK', True)\n",
    "X2, Y2, result3 = linear_regression(test_month1,'DayofMonth')\n"
   ]
  },
  {
   "cell_type": "code",
   "execution_count": 29,
   "metadata": {},
   "outputs": [
    {
     "data": {
      "image/png": "[encoded data removed]",
      "text/plain": [
       "<matplotlib.figure.Figure at 0x21eb0752d68>"
      ]
     },
     "metadata": {},
     "output_type": "display_data"
    }
   ],
   "source": [
    "plt.figure(figsize=(15,10))\n",
    "plt.ylim(-20,125)\n",
    "plt.scatter(df2['DayofMonth'], df2['DepDelayMinutes'], color='grey')\n",
    "plt.plot(X1, Y1, 'bs', linestyle = ':', markersize = 10)\n",
    "plt.plot(X1, result2, color = 'b', linestyle = '-', linewidth = 3)\n",
    "plt.plot(X2, Y2, 'gX', linestyle = ':', markersize = 15)\n",
    "plt.plot(X2, result3, color = 'g', linestyle = '-', linewidth = 3);"
   ]
  },
  {
   "cell_type": "code",
   "execution_count": 30,
   "metadata": {},
   "outputs": [
    {
     "name": "stdout",
     "output_type": "stream",
     "text": [
      "0.0628194725996\n",
      "7.91690925546\n"
     ]
    },
    {
     "name": "stderr",
     "output_type": "stream",
     "text": [
      "C:\\Anaconda\\lib\\site-packages\\ipykernel_launcher.py:4: SettingWithCopyWarning: \n",
      "A value is trying to be set on a copy of a slice from a DataFrame.\n",
      "Try using .loc[row_indexer,col_indexer] = value instead\n",
      "\n",
      "See the caveats in the documentation: http://pandas.pydata.org/pandas-docs/stable/indexing.html#indexing-view-versus-copy\n",
      "  after removing the cwd from sys.path.\n"
     ]
    }
   ],
   "source": [
    "test_data =  get_flight_delays(df_test,'DayofMonth', 'AA', 'JFK', True)\n",
    "test_data = test_data[['mean', 'DayofMonth']].dropna(how='any', axis = 0)\n",
    "X_test = np.array(test_data['DayofMonth'])\n",
    "Y_test = np.array(test_data['mean'])\n",
    "X_test = X_test.reshape(len(X_test),1)\n",
    "Y_test = Y_test.reshape(len(Y_test),1)\n",
    "regr = linear_model.LinearRegression()\n",
    "model=regr.fit(X2,Y2)\n",
    "result = regr.predict(X_test)\n",
    "print(regr.score(X2,Y2))\n",
    "mae=mean_squared_error(Y_test, result)\n",
    "print(mae)"
   ]
  },
  {
   "cell_type": "code",
   "execution_count": 31,
   "metadata": {},
   "outputs": [
    {
     "name": "stderr",
     "output_type": "stream",
     "text": [
      "C:\\Anaconda\\lib\\site-packages\\ipykernel_launcher.py:4: SettingWithCopyWarning: \n",
      "A value is trying to be set on a copy of a slice from a DataFrame.\n",
      "Try using .loc[row_indexer,col_indexer] = value instead\n",
      "\n",
      "See the caveats in the documentation: http://pandas.pydata.org/pandas-docs/stable/indexing.html#indexing-view-versus-copy\n",
      "  after removing the cwd from sys.path.\n"
     ]
    }
   ],
   "source": [
    "test_week = get_flight_delays(df,'DayOfWeek', 'AA', 'JFK', False)\n",
    "X1, Y1, result2 = linear_regression(test_week,'DayOfWeek')\n",
    "\n",
    "\n",
    "test_week1 = get_flight_delays(df,'DayOfWeek', 'AA', 'JFK', True)\n",
    "X2, Y2, result3 = linear_regression(test_week1,'DayOfWeek')\n"
   ]
  },
  {
   "cell_type": "code",
   "execution_count": 32,
   "metadata": {},
   "outputs": [
    {
     "data": {
      "image/png": "[encoded data removed]",
      "text/plain": [
       "<matplotlib.figure.Figure at 0x21eb0ab5588>"
      ]
     },
     "metadata": {},
     "output_type": "display_data"
    }
   ],
   "source": [
    "plt.figure(figsize=(15,10))\n",
    "plt.ylim(-20,125)\n",
    "plt.scatter(df2['DayOfWeek'], df2['DepDelayMinutes'], color='grey')\n",
    "plt.plot(X1, Y1, 'bs', linestyle = ':', markersize = 10)\n",
    "plt.plot(X1, result2, color = 'b', linestyle = '-', linewidth = 3)\n",
    "plt.plot(X2, Y2, 'gX', linestyle = ':', markersize = 15)\n",
    "plt.plot(X2, result3, color = 'g', linestyle = '-', linewidth = 3);"
   ]
  },
  {
   "cell_type": "code",
   "execution_count": 33,
   "metadata": {},
   "outputs": [
    {
     "name": "stdout",
     "output_type": "stream",
     "text": [
      "0.457022995595\n",
      "14.6485249116\n"
     ]
    },
    {
     "name": "stderr",
     "output_type": "stream",
     "text": [
      "C:\\Anaconda\\lib\\site-packages\\ipykernel_launcher.py:4: SettingWithCopyWarning: \n",
      "A value is trying to be set on a copy of a slice from a DataFrame.\n",
      "Try using .loc[row_indexer,col_indexer] = value instead\n",
      "\n",
      "See the caveats in the documentation: http://pandas.pydata.org/pandas-docs/stable/indexing.html#indexing-view-versus-copy\n",
      "  after removing the cwd from sys.path.\n"
     ]
    }
   ],
   "source": [
    "test_data =  get_flight_delays(df_test,'DayOfWeek', 'AA', 'JFK', True)\n",
    "test_data = test_data[['mean', 'DayOfWeek']].dropna(how='any', axis = 0)\n",
    "X_test = np.array(test_data['DayOfWeek'])\n",
    "Y_test = np.array(test_data['mean'])\n",
    "X_test = X_test.reshape(len(X_test),1)\n",
    "Y_test = Y_test.reshape(len(Y_test),1)\n",
    "regr = linear_model.LinearRegression()\n",
    "model=regr.fit(X2,Y2)\n",
    "result = regr.predict(X_test)\n",
    "print(regr.score(X2,Y2))\n",
    "mae=mean_squared_error(Y_test, result)\n",
    "print(mae)"
   ]
  },
  {
   "cell_type": "code",
   "execution_count": 34,
   "metadata": {},
   "outputs": [
    {
     "name": "stderr",
     "output_type": "stream",
     "text": [
      "C:\\Anaconda\\lib\\site-packages\\ipykernel_launcher.py:4: SettingWithCopyWarning: \n",
      "A value is trying to be set on a copy of a slice from a DataFrame.\n",
      "Try using .loc[row_indexer,col_indexer] = value instead\n",
      "\n",
      "See the caveats in the documentation: http://pandas.pydata.org/pandas-docs/stable/indexing.html#indexing-view-versus-copy\n",
      "  after removing the cwd from sys.path.\n"
     ]
    }
   ],
   "source": [
    "test_num = get_flight_delays(df,'FlightNum', 'AA', 'JFK', False)\n",
    "X1, Y1, result2 = linear_regression(test_num,'FlightNum')\n",
    "\n",
    "\n",
    "test_num1 = get_flight_delays(df,'FlightNum', 'AA', 'JFK', True)\n",
    "X2, Y2, result3 = linear_regression(test_num1,'FlightNum')\n"
   ]
  },
  {
   "cell_type": "code",
   "execution_count": 35,
   "metadata": {},
   "outputs": [
    {
     "data": {
      "image/png": "[encoded data removed]",
      "text/plain": [
       "<matplotlib.figure.Figure at 0x21eb069ea58>"
      ]
     },
     "metadata": {},
     "output_type": "display_data"
    }
   ],
   "source": [
    "plt.figure(figsize=(15,10))\n",
    "plt.ylim(-20,125)\n",
    "plt.scatter(df2['FlightNum'], df2['DepDelayMinutes'], color='grey')\n",
    "plt.plot(X1, Y1, 'bs', linestyle = ':', markersize = 10)\n",
    "plt.plot(X1, result2, color = 'b', linestyle = '-', linewidth = 3)\n",
    "plt.plot(X2, Y2, 'gX', linestyle = ':', markersize = 15)\n",
    "plt.plot(X2, result3, color = 'g', linestyle = '-', linewidth = 3);"
   ]
  },
  {
   "cell_type": "code",
   "execution_count": 36,
   "metadata": {},
   "outputs": [
    {
     "name": "stdout",
     "output_type": "stream",
     "text": [
      "2.92666768105e-05\n",
      "26.5685989967\n"
     ]
    },
    {
     "name": "stderr",
     "output_type": "stream",
     "text": [
      "C:\\Anaconda\\lib\\site-packages\\ipykernel_launcher.py:4: SettingWithCopyWarning: \n",
      "A value is trying to be set on a copy of a slice from a DataFrame.\n",
      "Try using .loc[row_indexer,col_indexer] = value instead\n",
      "\n",
      "See the caveats in the documentation: http://pandas.pydata.org/pandas-docs/stable/indexing.html#indexing-view-versus-copy\n",
      "  after removing the cwd from sys.path.\n"
     ]
    }
   ],
   "source": [
    "test_data =  get_flight_delays(df_test,'FlightNum', 'AA', 'JFK', True)\n",
    "test_data = test_data[['mean', 'FlightNum']].dropna(how='any', axis = 0)\n",
    "X_test = np.array(test_data['FlightNum'])\n",
    "Y_test = np.array(test_data['mean'])\n",
    "X_test = X_test.reshape(len(X_test),1)\n",
    "Y_test = Y_test.reshape(len(Y_test),1)\n",
    "regr = linear_model.LinearRegression()\n",
    "model=regr.fit(X2,Y2)\n",
    "result = regr.predict(X_test)\n",
    "print(regr.score(X2,Y2))\n",
    "mae=mean_squared_error(Y_test, result)\n",
    "print(mae)"
   ]
  },
  {
   "cell_type": "code",
   "execution_count": 37,
   "metadata": {
    "collapsed": true
   },
   "outputs": [],
   "source": [
    "def get_merged_delays(df, carrier):\n",
    "    list_airports = df[df['Carrier'] == carrier]['Origin'].unique()\n",
    "    i = 0\n",
    "    list_columns = ['Origin', 'TaxiIn', 'mean']\n",
    "    for id_airport in list_airports:\n",
    "        test2 = get_flight_delays(df,'TaxiIn', carrier, id_airport, True)\n",
    "        test2.loc[:, 'Origin'] = id_airport\n",
    "        test2 = test2[list_columns]\n",
    "        test2.dropna(how = 'any', inplace = True)\n",
    "        if i == 0:\n",
    "            merged_df = test2.copy()\n",
    "        else:\n",
    "            merged_df = pd.concat([merged_df, test2], ignore_index = True)\n",
    "        i += 1    \n",
    "    return merged_df"
   ]
  },
  {
   "cell_type": "code",
   "execution_count": 38,
   "metadata": {},
   "outputs": [
    {
     "name": "stderr",
     "output_type": "stream",
     "text": [
      "C:\\Anaconda\\lib\\site-packages\\ipykernel_launcher.py:4: SettingWithCopyWarning: \n",
      "A value is trying to be set on a copy of a slice from a DataFrame.\n",
      "Try using .loc[row_indexer,col_indexer] = value instead\n",
      "\n",
      "See the caveats in the documentation: http://pandas.pydata.org/pandas-docs/stable/indexing.html#indexing-view-versus-copy\n",
      "  after removing the cwd from sys.path.\n"
     ]
    },
    {
     "data": {
      "text/plain": [
       "(2650, 3)"
      ]
     },
     "execution_count": 38,
     "metadata": {},
     "output_type": "execute_result"
    }
   ],
   "source": [
    "\n",
    "merged_df = get_merged_delays(df,'AA')\n",
    "merged_df.shape"
   ]
  },
  {
   "cell_type": "code",
   "execution_count": 39,
   "metadata": {},
   "outputs": [
    {
     "data": {
      "text/html": [
       "<div>\n",
       "<style>\n",
       "    .dataframe thead tr:only-child th {\n",
       "        text-align: right;\n",
       "    }\n",
       "\n",
       "    .dataframe thead th {\n",
       "        text-align: left;\n",
       "    }\n",
       "\n",
       "    .dataframe tbody tr th {\n",
       "        vertical-align: top;\n",
       "    }\n",
       "</style>\n",
       "<table border=\"1\" class=\"dataframe\">\n",
       "  <thead>\n",
       "    <tr style=\"text-align: right;\">\n",
       "      <th></th>\n",
       "      <th>Origin</th>\n",
       "      <th>TaxiIn</th>\n",
       "      <th>mean</th>\n",
       "    </tr>\n",
       "  </thead>\n",
       "  <tbody>\n",
       "    <tr>\n",
       "      <th>0</th>\n",
       "      <td>DFW</td>\n",
       "      <td>1.0</td>\n",
       "      <td>3.000000</td>\n",
       "    </tr>\n",
       "    <tr>\n",
       "      <th>1</th>\n",
       "      <td>DFW</td>\n",
       "      <td>2.0</td>\n",
       "      <td>6.042254</td>\n",
       "    </tr>\n",
       "    <tr>\n",
       "      <th>2</th>\n",
       "      <td>DFW</td>\n",
       "      <td>3.0</td>\n",
       "      <td>5.393078</td>\n",
       "    </tr>\n",
       "    <tr>\n",
       "      <th>3</th>\n",
       "      <td>DFW</td>\n",
       "      <td>4.0</td>\n",
       "      <td>5.501404</td>\n",
       "    </tr>\n",
       "    <tr>\n",
       "      <th>4</th>\n",
       "      <td>DFW</td>\n",
       "      <td>5.0</td>\n",
       "      <td>5.829849</td>\n",
       "    </tr>\n",
       "  </tbody>\n",
       "</table>\n",
       "</div>"
      ],
      "text/plain": [
       "  Origin  TaxiIn      mean\n",
       "0    DFW     1.0  3.000000\n",
       "1    DFW     2.0  6.042254\n",
       "2    DFW     3.0  5.393078\n",
       "3    DFW     4.0  5.501404\n",
       "4    DFW     5.0  5.829849"
      ]
     },
     "execution_count": 39,
     "metadata": {},
     "output_type": "execute_result"
    }
   ],
   "source": [
    "merged_df.head()"
   ]
  },
  {
   "cell_type": "code",
   "execution_count": 40,
   "metadata": {
    "collapsed": true
   },
   "outputs": [],
   "source": [
    "indicator_var1 = pd.DataFrame()\n",
    "categories = ['Origin']\n",
    "\n",
    "for i in categories:\n",
    "    x = pd.get_dummies(merged_df[i],drop_first=True)\n",
    "    indicator_var1 = pd.concat([indicator_var1, x],axis=1)\n",
    "    \n",
    "merged_df.drop(['Origin'], axis = 1, inplace = True)\n",
    "\n",
    "merged_df = pd.concat([indicator_var1, merged_df],axis=1)\n"
   ]
  },
  {
   "cell_type": "code",
   "execution_count": 41,
   "metadata": {},
   "outputs": [
    {
     "data": {
      "text/plain": [
       "(2650, 96)"
      ]
     },
     "execution_count": 41,
     "metadata": {},
     "output_type": "execute_result"
    }
   ],
   "source": [
    "merged_df.shape"
   ]
  },
  {
   "cell_type": "code",
   "execution_count": 42,
   "metadata": {
    "collapsed": true
   },
   "outputs": [],
   "source": [
    "features = []\n",
    "for i in merged_df.columns:\n",
    "    if i != \"mean\":\n",
    "        features.append(i)\n",
    "X=merged_df[features]\n",
    "y=merged_df['mean']        "
   ]
  },
  {
   "cell_type": "code",
   "execution_count": 43,
   "metadata": {},
   "outputs": [
    {
     "name": "stdout",
     "output_type": "stream",
     "text": [
      "0.130974512066\n",
      "47.5249426113\n"
     ]
    }
   ],
   "source": [
    "X_train, X_test, y_train, y_test = train_test_split(X, y, train_size=0.70, random_state=0)\n",
    "\n",
    "lm = linear_model.LinearRegression()\n",
    "model = lm.fit(X_train,y_train)\n",
    "predictions = lm.predict(X_test)\n",
    "mse=mean_squared_error(predictions, y_test)\n",
    "print(lm.score(X_train,y_train))\n",
    "print(mse)"
   ]
  },
  {
   "cell_type": "code",
   "execution_count": 44,
   "metadata": {},
   "outputs": [
    {
     "name": "stdout",
     "output_type": "stream",
     "text": [
      "0.194014100343\n",
      "4.56102821096e+16\n"
     ]
    }
   ],
   "source": [
    "poly = PolynomialFeatures(degree = 2)\n",
    "regr = linear_model.LinearRegression()\n",
    "X_train_poly = poly.fit_transform(X_train)\n",
    "X_test_poly = poly.fit_transform(X_test)\n",
    "regr.fit(X_train_poly, y_train)\n",
    "predictions = regr.predict(X_test_poly)\n",
    "mse=mean_squared_error(predictions, y_test)\n",
    "print(regr.score(X_train_poly,y_train))\n",
    "print(mse)"
   ]
  },
  {
   "cell_type": "code",
   "execution_count": 45,
   "metadata": {},
   "outputs": [
    {
     "name": "stdout",
     "output_type": "stream",
     "text": [
      "0.169195950302\n",
      "45.1274437875\n"
     ]
    }
   ],
   "source": [
    "from sklearn.linear_model import Ridge\n",
    "ridgereg = Ridge(alpha=0.3,normalize=True)\n",
    "poly = PolynomialFeatures(degree = 2)\n",
    "X_train_poly = poly.fit_transform(X_train)\n",
    "X_test_poly = poly.fit_transform(X_test)\n",
    "\n",
    "ridgereg.fit(X_train_poly, y_train)\n",
    "\n",
    "predictions = ridgereg.predict(X_test_poly)\n",
    "mse=mean_squared_error(predictions, y_test)\n",
    "print(ridgereg.score(X_train_poly,y_train))\n",
    "print(mse)"
   ]
  },
  {
   "cell_type": "code",
   "execution_count": 46,
   "metadata": {},
   "outputs": [
    {
     "name": "stdout",
     "output_type": "stream",
     "text": [
      "47.9736510074\n",
      "0.0134864248752\n",
      "{'alpha': 10, 'normalize': True}\n",
      "Ridge(alpha=10, copy_X=True, fit_intercept=True, max_iter=None,\n",
      "   normalize=True, random_state=None, solver='auto', tol=0.001)\n"
     ]
    }
   ],
   "source": [
    "#verbose_level=10\n",
    "from sklearn.model_selection import GridSearchCV\n",
    "model=Ridge()\n",
    "parameters={\"alpha\": [ 10,1,0.1,0.3],'normalize':[True,False]}\n",
    "grid = GridSearchCV(model, cv=10,param_grid=parameters)\n",
    "\n",
    "grid.fit(X_train_poly, y_train)\n",
    "predictions = grid.predict(X_test_poly)\n",
    "mse=mean_squared_error(predictions, y_test)\n",
    "print(mse)\n",
    "print(grid.best_score_)\n",
    "print(grid.best_params_)\n",
    "print(grid.best_estimator_)\n",
    "\n"
   ]
  },
  {
   "cell_type": "code",
   "execution_count": 47,
   "metadata": {},
   "outputs": [
    {
     "name": "stderr",
     "output_type": "stream",
     "text": [
      "C:\\Anaconda\\lib\\site-packages\\ipykernel_launcher.py:4: SettingWithCopyWarning: \n",
      "A value is trying to be set on a copy of a slice from a DataFrame.\n",
      "Try using .loc[row_indexer,col_indexer] = value instead\n",
      "\n",
      "See the caveats in the documentation: http://pandas.pydata.org/pandas-docs/stable/indexing.html#indexing-view-versus-copy\n",
      "  after removing the cwd from sys.path.\n"
     ]
    },
    {
     "data": {
      "text/plain": [
       "(1821, 3)"
      ]
     },
     "execution_count": 47,
     "metadata": {},
     "output_type": "execute_result"
    }
   ],
   "source": [
    "merged_df_test = get_merged_delays(df_test, 'AA')\n",
    "merged_df_test.shape"
   ]
  },
  {
   "cell_type": "code",
   "execution_count": null,
   "metadata": {},
   "outputs": [
    {
     "data": {
      "text/plain": [
       "(1821, 94)"
      ]
     },
     "execution_count": 48,
     "metadata": {},
     "output_type": "execute_result"
    }
   ],
   "source": [
    "indicator_var1 = pd.DataFrame()\n",
    "categories = ['Origin']\n",
    "\n",
    "for i in categories:\n",
    "    x = pd.get_dummies(merged_df_test[i],drop_first=True)\n",
    "    indicator_var1 = pd.concat([indicator_var1, x],axis=1)\n",
    "    \n",
    "merged_df_test.drop(['Origin'], axis = 1, inplace = True)\n",
    "\n",
    "merged_df_test = pd.concat([indicator_var1, merged_df_test],axis=1)\n",
    "merged_df_test.shape"
   ]
  },
  {
   "cell_type": "code",
   "execution_count": null,
   "metadata": {
    "collapsed": true
   },
   "outputs": [],
   "source": [
    "features = []\n",
    "for i in merged_df_test.columns:\n",
    "    if i != \"mean\":\n",
    "        features.append(i)\n",
    "X=merged_df_test[features]\n",
    "y=merged_df_test['mean']      \n",
    "X_test_poly1 = poly.fit_transform(X)\n"
   ]
  },
  {
   "cell_type": "code",
   "execution_count": null,
   "metadata": {},
   "outputs": [],
   "source": [
    "predictions = grid.predict(X_test_poly)\n",
    "mse=mean_squared_error(predictions, y)\n",
    "print(mse)\n",
    "print(grid.best_score_)\n",
    "print(grid.best_params_)\n",
    "print(grid.best_estimator_)"
   ]
  },
  {
   "cell_type": "code",
   "execution_count": null,
   "metadata": {
    "collapsed": true
   },
   "outputs": [],
   "source": [
    "def create_df(df, carrier):\n",
    "    df2 = df[df['Carrier'] == carrier][['DepDelayMinutes','TaxiIn','Distance','DayofMonth','DayOfWeek','FlightNum']]\n",
    "    df2.dropna(how = 'any', inplace = True)\n",
    "    df2['DepDelayMinutes'] = df2['DepDelayMinutes'].apply(lambda x:x if x < 60 else np.nan)\n",
    "    df2.dropna(how = 'any', inplace = True)\n",
    "    df3 = df2.groupby(['TaxiIn','Distance'],as_index = False).mean()\n",
    "    return df3"
   ]
  },
  {
   "cell_type": "code",
   "execution_count": null,
   "metadata": {},
   "outputs": [],
   "source": [
    "df3 = create_df(df, 'AA')    \n",
    "df3.head()"
   ]
  },
  {
   "cell_type": "code",
   "execution_count": null,
   "metadata": {
    "collapsed": true
   },
   "outputs": [],
   "source": [
    "#indicator_var1 = pd.DataFrame()\n",
    "#categories = ['Origin']\n",
    "\n",
    "#for i in categories:\n",
    " #   x = pd.get_dummies(df3[i],drop_first=True)\n",
    "  #  indicator_var1 = pd.concat([indicator_var1, x],axis=1)\n",
    "    \n",
    "#df3.drop(['Origin'], axis = 1, inplace = True)\n",
    "\n",
    "#df3 = pd.concat([indicator_var1, df3],axis=1)\n",
    "#df3.shape"
   ]
  },
  {
   "cell_type": "code",
   "execution_count": null,
   "metadata": {
    "collapsed": true
   },
   "outputs": [],
   "source": [
    "features = []\n",
    "for i in df3.columns:\n",
    "    if i != \"DepDelayMinutes\":\n",
    "        features.append(i)\n",
    "X=df3[features]\n",
    "y=df3['DepDelayMinutes']        "
   ]
  },
  {
   "cell_type": "code",
   "execution_count": null,
   "metadata": {},
   "outputs": [],
   "source": [
    "X_train, X_test, y_train, y_test = train_test_split(X, y, train_size=0.70, random_state=0)\n",
    "\n",
    "from sklearn.linear_model import Ridge\n",
    "ridgereg = Ridge(alpha=0.3,normalize=True)\n",
    "poly = PolynomialFeatures(degree = 2)\n",
    "X_train_poly = poly.fit_transform(X_train)\n",
    "X_test_poly = poly.fit_transform(X_test)\n",
    "\n",
    "ridgereg.fit(X_train_poly, y_train)\n",
    "\n",
    "predictions = ridgereg.predict(X_test_poly)\n",
    "mse=mean_squared_error(predictions, y_test)\n",
    "print(ridgereg.score(X_train_poly,y_train))\n",
    "print(mse)"
   ]
  },
  {
   "cell_type": "code",
   "execution_count": null,
   "metadata": {},
   "outputs": [],
   "source": [
    "#x=[1.0,168.0,19.0,2.0,1795.0]\n",
    "#x.reshape(-1, 1)\n",
    "predictions = ridgereg.predict(X_test_poly[0:1])\n",
    "print(predictions)"
   ]
  },
  {
   "cell_type": "code",
   "execution_count": null,
   "metadata": {
    "collapsed": true
   },
   "outputs": [],
   "source": []
  }
 ],
 "metadata": {
  "kernelspec": {
   "display_name": "Python 3",
   "language": "python",
   "name": "python3"
  },
  "language_info": {
   "codemirror_mode": {
    "name": "ipython",
    "version": 3
   },
   "file_extension": ".py",
   "mimetype": "text/x-python",
   "name": "python",
   "nbconvert_exporter": "python",
   "pygments_lexer": "ipython3",
   "version": "3.6.3"
  }
 },
 "nbformat": 4,
 "nbformat_minor": 2
}
